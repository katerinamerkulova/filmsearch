{
 "cells": [
  {
   "cell_type": "code",
   "execution_count": 1,
   "metadata": {},
   "outputs": [
    {
     "data": {
      "text/html": [
       "<div>\n",
       "<style scoped>\n",
       "    .dataframe tbody tr th:only-of-type {\n",
       "        vertical-align: middle;\n",
       "    }\n",
       "\n",
       "    .dataframe tbody tr th {\n",
       "        vertical-align: top;\n",
       "    }\n",
       "\n",
       "    .dataframe thead th {\n",
       "        text-align: right;\n",
       "    }\n",
       "</style>\n",
       "<table border=\"1\" class=\"dataframe\">\n",
       "  <thead>\n",
       "    <tr style=\"text-align: right;\">\n",
       "      <th></th>\n",
       "      <th>film</th>\n",
       "      <th>plot</th>\n",
       "      <th>length</th>\n",
       "    </tr>\n",
       "  </thead>\n",
       "  <tbody>\n",
       "    <tr>\n",
       "      <th>0</th>\n",
       "      <td>? (фильм)</td>\n",
       "      <td>индон tanda tanya индонезийский художественный...</td>\n",
       "      <td>3886</td>\n",
       "    </tr>\n",
       "    <tr>\n",
       "      <th>1</th>\n",
       "      <td>0-41*</td>\n",
       "      <td>0 41 индийский документальный драматический ф...</td>\n",
       "      <td>304</td>\n",
       "    </tr>\n",
       "    <tr>\n",
       "      <th>2</th>\n",
       "      <td>1 (документальный фильм)</td>\n",
       "      <td>1 также известный 1 жизнь лимит англ 1 life o...</td>\n",
       "      <td>2333</td>\n",
       "    </tr>\n",
       "    <tr>\n",
       "      <th>3</th>\n",
       "      <td>1 % (фильм)</td>\n",
       "      <td>1 австралийский криминальный фильм режиссер с...</td>\n",
       "      <td>998</td>\n",
       "    </tr>\n",
       "    <tr>\n",
       "      <th>4</th>\n",
       "      <td>1 миля до тебя</td>\n",
       "      <td>1 миля американский мелодраматический фильм р...</td>\n",
       "      <td>951</td>\n",
       "    </tr>\n",
       "  </tbody>\n",
       "</table>\n",
       "</div>"
      ],
      "text/plain": [
       "                       film  \\\n",
       "0                 ? (фильм)   \n",
       "1                     0-41*   \n",
       "2  1 (документальный фильм)   \n",
       "3               1 % (фильм)   \n",
       "4            1 миля до тебя   \n",
       "\n",
       "                                                plot  length  \n",
       "0  индон tanda tanya индонезийский художественный...    3886  \n",
       "1   0 41 индийский документальный драматический ф...     304  \n",
       "2   1 также известный 1 жизнь лимит англ 1 life o...    2333  \n",
       "3   1 австралийский криминальный фильм режиссер с...     998  \n",
       "4   1 миля американский мелодраматический фильм р...     951  "
      ]
     },
     "execution_count": 1,
     "metadata": {},
     "output_type": "execute_result"
    }
   ],
   "source": [
    "# before lemmatize with mystem via cmd\n",
    "import pandas as pd\n",
    "import re\n",
    "from nltk.corpus import stopwords\n",
    "stops = stopwords.words(\"russian\")\n",
    "stops.extend(['что', 'это', 'так', 'вот', 'быть', 'как', 'в', 'к', 'на'])\n",
    "\n",
    "plots = open('film_plots_lem.txt', encoding='utf-8').read()\n",
    "plots = ' '.join([word for word in re.findall(\"[\\w&]+\", plots.lower()) if word not in stops]).split('&&&')\n",
    "\n",
    "lens = list(map(len, plots))\n",
    "titles = open('wiki_titles.txt', encoding='utf-8').read().split('\\n')\n",
    "df = pd.DataFrame({'film':titles, 'plot':plots, 'length':lens})\n",
    "df = df[df.length < 5000]\n",
    "df = df[df.length > 100]\n",
    "df.to_csv('data.csv', sep=';', index=False)\n",
    "df.head()"
   ]
  }
 ],
 "metadata": {
  "kernelspec": {
   "display_name": "Python 3",
   "language": "python",
   "name": "python3"
  },
  "language_info": {
   "codemirror_mode": {
    "name": "ipython",
    "version": 3
   },
   "file_extension": ".py",
   "mimetype": "text/x-python",
   "name": "python",
   "nbconvert_exporter": "python",
   "pygments_lexer": "ipython3",
   "version": "3.6.8"
  }
 },
 "nbformat": 4,
 "nbformat_minor": 2
}
