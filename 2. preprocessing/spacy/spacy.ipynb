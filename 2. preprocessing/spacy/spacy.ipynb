{
  "nbformat": 4,
  "nbformat_minor": 0,
  "metadata": {
    "colab": {
      "name": "spacy.ipynb",
      "provenance": [],
      "collapsed_sections": []
    },
    "kernelspec": {
      "name": "python3",
      "display_name": "Python 3"
    }
  },
  "cells": [
    {
      "cell_type": "code",
      "metadata": {
        "id": "iiSYlJTQMh20"
      },
      "source": [
        "!pip install spacy==3.0.1\r\n",
        "!python -m spacy download ru_core_news_lg\r\n",
        "\r\n",
        "import spacy\r\n",
        "\r\n",
        "nlp = spacy.load(\"ru_core_news_lg\")"
      ],
      "execution_count": 1,
      "outputs": []
    },
    {
      "cell_type": "code",
      "metadata": {
        "id": "wg7Y_s_BMdSO"
      },
      "source": [
        "train_data = open('/content/drive/MyDrive/Colab Notebooks/film_plots_raw.txt', encoding='utf-8')\r\n",
        "\r\n",
        "for idx, text in enumerate(train_data):\r\n",
        "    out = []\r\n",
        "    text = nlp(text)\r\n",
        "    for token in text:\r\n",
        "        if token.pos_ == \"VERB\":\r\n",
        "            out.append(token.lemma_)\r\n",
        "        elif token.pos_ == \"NOUN\":\r\n",
        "            out.extend([token.lemma_, *[child.lemma_ for child in token.children if child.pos_ == \"ADJ\"]])\r\n",
        "\r\n",
        "    if idx % 100 == 0:\r\n",
        "        print(f'done {idx}')\r\n",
        "    with open('/content/drive/MyDrive/Colab Notebooks/film_plots_spacy.txt', 'a', encoding='utf-8') as outfile:\r\n",
        "        outfile.write(' '.join(out) + '\\n')"
      ],
      "execution_count": null,
      "outputs": []
    },
    {
      "cell_type": "code",
      "metadata": {
        "colab": {
          "base_uri": "https://localhost:8080/"
        },
        "id": "LbGsgrmUpvmr",
        "outputId": "5fdee4af-f6bd-4246-d1dc-1280e9ae3317"
      },
      "source": [
        "test_data = open('/content/drive/MyDrive/Colab Notebooks/test_data_raw.txt', encoding='utf-8')\r\n",
        "\r\n",
        "for idx, text in enumerate(test_data):\r\n",
        "    out = []\r\n",
        "    text = nlp(text)\r\n",
        "    for token in text:\r\n",
        "        if token.pos_ == \"VERB\":\r\n",
        "            out.append(token.lemma_)\r\n",
        "        elif token.pos_ == \"NOUN\":\r\n",
        "            out.extend([token.lemma_, *[child.lemma_ for child in token.children if child.pos_ == \"ADJ\"]])\r\n",
        "\r\n",
        "    if idx % 100 == 0:\r\n",
        "        print(f'done {idx}')\r\n",
        "    with open('/content/drive/MyDrive/Colab Notebooks/test_data_spacy.txt', 'a', encoding='utf-8') as outfile:\r\n",
        "        outfile.write(' '.join(out) + '\\n')"
      ],
      "execution_count": null,
      "outputs": [
        {
          "output_type": "stream",
          "text": [
            "done 0\n",
            "done 100\n",
            "done 200\n",
            "done 300\n",
            "done 400\n",
            "done 500\n",
            "done 600\n",
            "done 700\n"
          ],
          "name": "stdout"
        }
      ]
    }
  ]
}