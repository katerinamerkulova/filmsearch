{
 "cells": [
  {
   "cell_type": "code",
   "execution_count": 1,
   "metadata": {
    "scrolled": true
   },
   "outputs": [],
   "source": [
    "import numpy as np\n",
    "import pandas as pd\n",
    "import pickle\n",
    "import pymorphy2\n",
    "import re\n",
    "from sklearn.feature_extraction.text import TfidfVectorizer\n",
    "\n",
    "morph = pymorphy2.MorphAnalyzer()\n",
    "stops = open('russian.txt').read().split()"
   ]
  },
  {
   "cell_type": "code",
   "execution_count": 9,
   "metadata": {
    "colab": {},
    "colab_type": "code",
    "id": "PeKJqTK8Al7X"
   },
   "outputs": [
    {
     "data": {
      "text/plain": [
       "[(array([0.47781456]), 'Паразиты (фильм)'),\n",
       " (array([0.30117855]), 'Наверное, боги сошли с ума'),\n",
       " (array([0.29050192]), 'Всё будет хорошо (фильм, 1998)'),\n",
       " (array([0.2530507]), 'Волчье лето'),\n",
       " (array([0.2511751]), 'Мой путь (фильм, 2011)')]"
      ]
     },
     "execution_count": 9,
     "metadata": {},
     "output_type": "execute_result"
    }
   ],
   "source": [
    "data = pd.read_csv('data.csv', sep=';')\n",
    "vectorizer = TfidfVectorizer(max_features=7000)\n",
    "tfidf = vectorizer.fit(data['plot'])\n",
    "X = vectorizer.transform(data['plot']).toarray()\n",
    "pickle.dump(tfidf, open('tfidf.pickle', 'wb'))\n",
    "pickle.dump(X, open('tfidf_matrix.pickle', 'wb'))    # https://yadi.sk/d/tbhfd_gJY41ofg\n",
    "\n",
    "def predict(query):\n",
    "    query = ' '.join(list(morph.parse(word)[0].normal_form for word in re.findall(\"[\\w]+\", query)))\n",
    "    query = ' '.join([word for word in query.split() if word not in stops])\n",
    "    vec = vectorizer.transform([query]).toarray().reshape(7000, 1)\n",
    "    data = pd.read_csv('data.csv', sep=';')\n",
    "    simil = []\n",
    "    for vector, film in zip(X, data['film']):\n",
    "        simil.append((np.dot(vector, vec)/np.linalg.norm(vector)*np.linalg.norm(vec), film))\n",
    "    simil.sort(reverse=True)\n",
    "    return simil[:5]\n",
    "\n",
    "query = ('Ким Ки Тхэк раньше работал водителем, но давно уже потерял работу'\n",
    "         'и теперь влачит жалкое существование вместе со своей женой Чхун Сук'\n",
    "         'и двумя детьми выпускного возраста в полуподвальной квартире. Семья'\n",
    "         'пытается свести концы с концами, складывая из картонок коробки для пиццы.')\n",
    "#query = 'Сериал про Шерлока Холмса'\n",
    "predict(query)"
   ]
  }
 ],
 "metadata": {
  "colab": {
   "collapsed_sections": [],
   "name": "tfidf_for_a_query.ipynb",
   "provenance": []
  },
  "kernelspec": {
   "display_name": "Python 3",
   "language": "python",
   "name": "python3"
  },
  "language_info": {
   "codemirror_mode": {
    "name": "ipython",
    "version": 3
   },
   "file_extension": ".py",
   "mimetype": "text/x-python",
   "name": "python",
   "nbconvert_exporter": "python",
   "pygments_lexer": "ipython3",
   "version": "3.9.1"
  }
 },
 "nbformat": 4,
 "nbformat_minor": 1
}
