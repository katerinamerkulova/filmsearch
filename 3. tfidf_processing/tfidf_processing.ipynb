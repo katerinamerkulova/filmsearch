{
 "cells": [
  {
   "cell_type": "code",
   "execution_count": null,
   "metadata": {},
   "outputs": [],
   "source": [
    "import pandas as pd\n",
    "import numpy as np\n",
    "from sklearn.feature_extraction.text import TfidfVectorizer\n",
    "import pickle\n",
    "import pymorphy2\n",
    "morph = pymorphy2.MorphAnalyzer()\n",
    "import re\n",
    "import nltk\n",
    "nltk.download('stopwords')\n",
    "from nltk.corpus import stopwords\n",
    "stops = stopwords.words(\"russian\")\n",
    "stops.extend(['что', 'это', 'так', 'вот', 'быть', 'как', 'в', 'к', 'на'])"
   ]
  },
  {
   "cell_type": "code",
   "execution_count": 6,
   "metadata": {
    "colab": {},
    "colab_type": "code",
    "id": "PeKJqTK8Al7X"
   },
   "outputs": [
    {
     "data": {
      "text/plain": [
       "[(array([0.36530307]), 'Драйв (фильм, 2011)'),\n",
       " (array([0.34616258]), 'Паразиты (фильм)'),\n",
       " (array([0.33944276]), 'Гарем Степана Гуслякова'),\n",
       " (array([0.33806448]), 'Водитель (фильм)'),\n",
       " (array([0.33272957]), 'Вся семья работает')]"
      ]
     },
     "execution_count": 6,
     "metadata": {},
     "output_type": "execute_result"
    }
   ],
   "source": [
    "data = pd.read_csv('data.csv', sep=';')\n",
    "vectorizer = TfidfVectorizer(max_features=25000)\n",
    "tfidf = vectorizer.fit(data['plot'])\n",
    "X = vectorizer.transform(data['plot']).toarray()\n",
    "pickle.dump(tfidf, open('tfidf.pickle', 'wb'))\n",
    "pickle.dump(X, open('tfidf_matrix.pickle', 'wb'))    # https://yadi.sk/d/tbhfd_gJY41ofg\n",
    "\n",
    "def predict(query):\n",
    "    query = ' '.join(list(morph.parse(word)[0].normal_form for word in re.findall(\"[\\w]+\", query)))\n",
    "    query = ' '.join([word for word in query.split() if word not in stops])\n",
    "    vec = vectorizer.transform([query]).toarray().reshape(25000, 1)\n",
    "    data = pd.read_csv('data.csv', sep=';')\n",
    "    simil = []\n",
    "    for vector, film in zip(X, data['film']):\n",
    "        simil.append((np.dot(vector, vec)/np.linalg.norm(vector)*np.linalg.norm(vec), film))\n",
    "    simil.sort(reverse=True)\n",
    "    return simil[:5]\n",
    "\n",
    "query = 'Ким Ки Тхэк раньше работал водителем, но давно уже потерял работу и теперь влачит жалкое существование вместе со своей женой Чхун Сук и двумя детьми выпускного возраста в полуподвальной квартире. Семья пытается свести концы с концами, складывая из картонок коробки для пиццы.'\n",
    "#query = 'Сериал про Шерлока Холмса'\n",
    "predict(query)"
   ]
  }
 ],
 "metadata": {
  "colab": {
   "collapsed_sections": [],
   "name": "tfidf_for_a_query.ipynb",
   "provenance": []
  },
  "kernelspec": {
   "display_name": "Python 3",
   "language": "python",
   "name": "python3"
  },
  "language_info": {
   "codemirror_mode": {
    "name": "ipython",
    "version": 3
   },
   "file_extension": ".py",
   "mimetype": "text/x-python",
   "name": "python",
   "nbconvert_exporter": "python",
   "pygments_lexer": "ipython3",
   "version": "3.6.8"
  }
 },
 "nbformat": 4,
 "nbformat_minor": 1
}
