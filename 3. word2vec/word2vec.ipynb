{
  "nbformat": 4,
  "nbformat_minor": 0,
  "metadata": {
    "colab": {
      "name": "lsh.ipynb",
      "provenance": [],
      "collapsed_sections": []
    },
    "kernelspec": {
      "name": "python3",
      "display_name": "Python 3"
    }
  },
  "cells": [
    {
      "cell_type": "code",
      "metadata": {
        "id": "FK0nez4o0-qT",
        "colab": {
          "base_uri": "https://localhost:8080/"
        },
        "outputId": "1aa885c3-f641-4dd1-ddcd-5c6fb092e1b3"
      },
      "source": [
        "import gensim\r\n",
        "\r\n",
        "x_train = open('/content/drive/MyDrive/Colab Notebooks/film_plots_lemma_correct.txt',\r\n",
        "               encoding='utf-8').readlines()\r\n",
        "\r\n",
        "y_train = open('/content/drive/MyDrive/Colab Notebooks/wiki_titles.txt',\r\n",
        "               encoding='utf-8').readlines()\r\n",
        "\r\n",
        "\r\n",
        "x_test = open('/content/drive/MyDrive/Colab Notebooks/test_data_lemma_correct.txt',\r\n",
        "              encoding='utf-8').readlines()\r\n",
        "\r\n",
        "y_test = open('/content/drive/MyDrive/Colab Notebooks/test_titles.txt',\r\n",
        "              encoding='utf-8').readlines()\r\n",
        "\r\n",
        "print(len(x_train) == len(y_train))\r\n",
        "print(len(x_test) == len(y_test))\r\n",
        "\r\n",
        "model = open('/content/drive/MyDrive/Colab Notebooks/model.bin', 'rb')\r\n",
        "model = gensim.models.KeyedVectors.load_word2vec_format(model, binary=True)\r\n",
        "\r\n",
        "for idx, text in enumerate(x_train):\r\n",
        "  x_train[idx] = [word for word in text.split() if word in model.vocab]\r\n",
        "\r\n",
        "for idx, text in enumerate(x_test):\r\n",
        "  x_test[idx] = [word for word in text.split() if word in model.vocab]"
      ],
      "execution_count": 45,
      "outputs": [
        {
          "output_type": "stream",
          "text": [
            "True\n",
            "True\n"
          ],
          "name": "stdout"
        }
      ]
    },
    {
      "cell_type": "code",
      "metadata": {
        "id": "XgzybFXYIXAI"
      },
      "source": [
        "import pandas as pd\r\n",
        "\r\n",
        "\r\n",
        "def ap(relev, k):    # average presicion\r\n",
        "    ap = []\r\n",
        "    for i in range(1, k):\r\n",
        "        if relev[i-1] is 1:    # if doc is relevant\r\n",
        "            ap.append(sum(relev[:i])/i)    # summary of precisions\r\n",
        "    try: \r\n",
        "        ap = sum(ap)/sum(relev)\r\n",
        "    except ZeroDivisionError:\r\n",
        "        ap = 0.0\r\n",
        "    return ap\r\n",
        "\r\n",
        "\r\n",
        "def evaluation(query, relev, index=0, k=5):    # mean average precision (5)\r\n",
        "    prec = round(sum(relev)/k, 4)    # rank is not take into account\r\n",
        "    k += 1\r\n",
        "    avp = ap(relev, k)    # rank is take into account\r\n",
        "    evaluat = pd.DataFrame({'precision': prec,\r\n",
        "                            'average_precision': avp},\r\n",
        "                            index=[index])\r\n",
        "    return evaluat\r\n",
        "\r\n",
        "\r\n",
        "def calc_map(query, film, predictions, k, index):\r\n",
        "    relev = [0] * k\r\n",
        "    for i, pred in enumerate(predictions):\r\n",
        "        if y_train[pred] == film:\r\n",
        "            relev[i] = 1\r\n",
        "    if relev != [0] * k:   \r\n",
        "        df = evaluation(query, relev, index, k)\r\n",
        "    else:\r\n",
        "        df = pd.DataFrame({'precision': 0.0,\r\n",
        "                           'average_precision': 0.0},\r\n",
        "                           index=[index])\r\n",
        "    return df\r\n",
        "\r\n",
        "\r\n",
        "# map = sum(ap)/Q    # Q - number of quaries\r\n",
        "# recall = sum(p)/Q"
      ],
      "execution_count": 41,
      "outputs": []
    },
    {
      "cell_type": "code",
      "metadata": {
        "colab": {
          "base_uri": "https://localhost:8080/"
        },
        "id": "_2jOM4Up4lvn",
        "outputId": "a1b542e9-747a-44cb-8eb0-bc19c4dc5008"
      },
      "source": [
        "from annoy import AnnoyIndex\r\n",
        "import numpy as np\r\n",
        "\r\n",
        "f = 300\r\n",
        "t = AnnoyIndex(f, 'angular')  # Length of item vector that will be indexed\r\n",
        "for idx, text in enumerate(x_train):\r\n",
        "  try:\r\n",
        "    v = np.mean(model[text], axis=0)\r\n",
        "  except ValueError:\r\n",
        "    continue\r\n",
        "  else:\r\n",
        "    t.add_item(idx, v)\r\n",
        "\r\n",
        "t.build(100) # 50 trees\r\n",
        "t.save('test.ann')"
      ],
      "execution_count": 42,
      "outputs": [
        {
          "output_type": "execute_result",
          "data": {
            "text/plain": [
              "True"
            ]
          },
          "metadata": {
            "tags": []
          },
          "execution_count": 42
        }
      ]
    },
    {
      "cell_type": "code",
      "metadata": {
        "id": "KTKlef_kD-Tk"
      },
      "source": [
        "u = AnnoyIndex(f, 'angular')\r\n",
        "u.load('test.ann') # super fast, just mmap the file\r\n",
        "\r\n",
        "df = pd.DataFrame(columns=['precision', 'average_precision'])\r\n",
        "\r\n",
        "for idx, (query, film) in enumerate(zip(x_test, y_test)):\r\n",
        "  v = np.mean(model[query], axis=0)\r\n",
        "  top_20 = u.get_nns_by_vector(v, 20) # find the 20 nearest neighbors\r\n",
        "\r\n",
        "  df2 = calc_map(query, film, top_20, 20, idx)\r\n",
        "  df = df.append(df2)\r\n"
      ],
      "execution_count": 46,
      "outputs": []
    },
    {
      "cell_type": "code",
      "metadata": {
        "id": "StD8-ppEL9sI"
      },
      "source": [
        "df.to_csv('map.csv')"
      ],
      "execution_count": 26,
      "outputs": []
    },
    {
      "cell_type": "code",
      "metadata": {
        "colab": {
          "base_uri": "https://localhost:8080/",
          "height": 80
        },
        "id": "UOTG7hN4NH8k",
        "outputId": "c4fd74ed-d943-4b93-f047-b8844a795f34"
      },
      "source": [
        "MAP = pd.DataFrame(columns=['recall', 'MAP'])\r\n",
        "df2 = pd.DataFrame({'recall': len([1 for prec in df.precision if prec != 0])/len(x_train),\r\n",
        "                    'MAP': sum(df.average_precision)/len(x_train)},\r\n",
        "                    index=[0])\r\n",
        "MAP = MAP.append(df2)\r\n",
        "MAP"
      ],
      "execution_count": 47,
      "outputs": [
        {
          "output_type": "execute_result",
          "data": {
            "text/html": [
              "<div>\n",
              "<style scoped>\n",
              "    .dataframe tbody tr th:only-of-type {\n",
              "        vertical-align: middle;\n",
              "    }\n",
              "\n",
              "    .dataframe tbody tr th {\n",
              "        vertical-align: top;\n",
              "    }\n",
              "\n",
              "    .dataframe thead th {\n",
              "        text-align: right;\n",
              "    }\n",
              "</style>\n",
              "<table border=\"1\" class=\"dataframe\">\n",
              "  <thead>\n",
              "    <tr style=\"text-align: right;\">\n",
              "      <th></th>\n",
              "      <th>recall</th>\n",
              "      <th>MAP</th>\n",
              "    </tr>\n",
              "  </thead>\n",
              "  <tbody>\n",
              "    <tr>\n",
              "      <th>0</th>\n",
              "      <td>0.001626</td>\n",
              "      <td>0.000683</td>\n",
              "    </tr>\n",
              "  </tbody>\n",
              "</table>\n",
              "</div>"
            ],
            "text/plain": [
              "     recall       MAP\n",
              "0  0.001626  0.000683"
            ]
          },
          "metadata": {
            "tags": []
          },
          "execution_count": 47
        }
      ]
    }
  ]
}