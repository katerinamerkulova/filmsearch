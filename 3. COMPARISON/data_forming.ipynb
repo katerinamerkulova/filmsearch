{
  "nbformat": 4,
  "nbformat_minor": 0,
  "metadata": {
    "colab": {
      "name": "data_forming.ipynb",
      "provenance": [],
      "collapsed_sections": []
    },
    "kernelspec": {
      "name": "python3",
      "display_name": "Python 3"
    }
  },
  "cells": [
    {
      "cell_type": "code",
      "metadata": {
        "id": "OIrlP4YqVOl_"
      },
      "source": [
        "x_train = open('/content/drive/MyDrive/Colab Notebooks/film_plots_lemma.txt',\r\n",
        "               encoding='utf-8').read().split('\\n')\r\n",
        "\r\n",
        "y_train = open('/content/drive/MyDrive/Colab Notebooks/wiki_titles.txt',\r\n",
        "               encoding='utf-8').read().split('\\n')\r\n",
        "\r\n",
        "\r\n",
        "x_test = open('/content/drive/MyDrive/Colab Notebooks/test_data.txt',\r\n",
        "              encoding='utf-8').read().split('\\n')\r\n",
        "\r\n",
        "y_test = open('/content/drive/MyDrive/Colab Notebooks/test_titles.txt',\r\n",
        "              encoding='utf-8').read().split('\\n')\r\n",
        "\r\n",
        "x_summary_test = open('/content/drive/MyDrive/Colab Notebooks/summary_lemma.txt',\r\n",
        "                      encoding='utf-8').read().split('\\n')\r\n",
        "\r\n",
        "y_summary_test = open('/content/drive/MyDrive/Colab Notebooks/summary_titles.txt',\r\n",
        "                      encoding='utf-8').read().split('\\n')"
      ],
      "execution_count": 2,
      "outputs": []
    },
    {
      "cell_type": "code",
      "metadata": {
        "colab": {
          "base_uri": "https://localhost:8080/"
        },
        "id": "fb14VsYHVda4",
        "outputId": "edfa43f8-e033-4b7d-bc6f-f4eababb9e1b"
      },
      "source": [
        "# find movies that are in test\r\n",
        "unique_test_movies = set(y_test)\r\n",
        "print(f'{len(unique_test_movies)} unique movies in test data')\r\n",
        "\r\n",
        "# find their description in train\r\n",
        "unique_train_idx = [idx for idx, title in enumerate(y_train) if title in unique_test_movies]\r\n",
        "unique_train_y = [title for title in y_train if title in unique_test_movies]\r\n",
        "unique_train_x = [x_train[idx] for idx in unique_train_idx]"
      ],
      "execution_count": 37,
      "outputs": [
        {
          "output_type": "stream",
          "text": [
            "840 unique movies in test data\n"
          ],
          "name": "stdout"
        }
      ]
    },
    {
      "cell_type": "code",
      "metadata": {
        "colab": {
          "base_uri": "https://localhost:8080/"
        },
        "id": "vhMT1NOCXEOG",
        "outputId": "3f83c08c-ba5d-4d36-ac84-27c978cff043"
      },
      "source": [
        "not_in_train = [y for y in y_test if y not in y_train]\r\n",
        "print(len(not_in_train))\r\n",
        "not_in_train"
      ],
      "execution_count": 35,
      "outputs": [
        {
          "output_type": "stream",
          "text": [
            "10\n"
          ],
          "name": "stdout"
        },
        {
          "output_type": "execute_result",
          "data": {
            "text/plain": [
              "['Король говорит!',\n",
              " 'Проклятие золотого цветка',\n",
              " 'Убить Билла',\n",
              " 'Мисс Март',\n",
              " 'Ребекка (фильм, 2008)',\n",
              " '99 франков (фильм)',\n",
              " 'Турбулентность (фильм)',\n",
              " 'Турбулентность (фильм)',\n",
              " 'Двойник (фильм, 1997)',\n",
              " 'Одноклассники.ru: НаCLICKай удачу']"
            ]
          },
          "metadata": {
            "tags": []
          },
          "execution_count": 35
        }
      ]
    },
    {
      "cell_type": "code",
      "metadata": {
        "colab": {
          "base_uri": "https://localhost:8080/"
        },
        "id": "Ecec95UBt8U5",
        "outputId": "c844bbe1-f0fd-4887-d14e-89972ec49403"
      },
      "source": [
        "unique_train_y_100 = unique_train_y[:100]\r\n",
        "unique_train_x_100 = unique_train_x[:100]\r\n",
        "\r\n",
        "unique_test_y_100 = [y for y in y_test if y in unique_train_y_100]\r\n",
        "unique_test_idx_100 = [idx for (idx, y) in enumerate(y_test) if y in unique_train_y_100]\r\n",
        "unique_test_x_100 = [x_test[idx] for idx in unique_test_idx_100]\r\n",
        "\r\n",
        "save_100 = '\\n'.join(unique_train_y_100) + '\\n&&&\\n'\r\n",
        "save_100 += '\\n'.join(unique_train_x_100) + '\\n&&&\\n'\r\n",
        "save_100 += '\\n'.join(unique_test_y_100) + '\\n&&&\\n'\r\n",
        "save_100 += '\\n'.join(unique_test_x_100)\r\n",
        "with open('data_100.txt', 'w', encoding='utf-8') as file:\r\n",
        "    file.write(save_100)\r\n",
        "\r\n",
        "unique_test_y_100[0], unique_test_x_100[0]"
      ],
      "execution_count": 41,
      "outputs": [
        {
          "output_type": "execute_result",
          "data": {
            "text/plain": [
              "('Бессмертные: Война миров',\n",
              " 'господин подсказывать если знать фильм фантастика помнить там красный акула молот плавать в городской пространство и это все что помнить')"
            ]
          },
          "metadata": {
            "tags": []
          },
          "execution_count": 41
        }
      ]
    },
    {
      "cell_type": "code",
      "metadata": {
        "colab": {
          "base_uri": "https://localhost:8080/"
        },
        "id": "pTSXSO26ymoW",
        "outputId": "140a62bc-b130-4ef1-fdb5-a648a0f3e67e"
      },
      "source": [
        "unique_train_y_500 = unique_train_y + y_train[:120]\r\n",
        "unique_train_x_500 = unique_train_x\r\n",
        "\r\n",
        "unique_test_y_500 = [y for y in y_test if y in unique_train_y_500]\r\n",
        "unique_test_idx_500 = [idx for (idx, y) in enumerate(y_test) if y in unique_train_y_500]\r\n",
        "unique_test_x_500 = [x_test[idx] for idx in unique_test_idx_500]\r\n",
        "\r\n",
        "save_500 = '\\n'.join(unique_train_y_500) + '\\n&&&\\n'\r\n",
        "save_500 += '\\n'.join(unique_train_x_500) + '\\n&&&\\n'\r\n",
        "save_500 += '\\n'.join(unique_test_y_500) + '\\n&&&\\n'\r\n",
        "save_500 += '\\n'.join(unique_test_x_500)\r\n",
        "with open('data_500.txt', 'w', encoding='utf-8') as file:\r\n",
        "    file.write(save_500)\r\n",
        "\r\n",
        "unique_test_y_500[0], unique_test_x_500[0]"
      ],
      "execution_count": 42,
      "outputs": [
        {
          "output_type": "execute_result",
          "data": {
            "text/plain": [
              "('Демонические игрушки',\n",
              " 'помогать пожалуйста очень давно искать фильм про девочка с кукла помнить только два момент на девочка нападывать птица она закрывать глаз становиться отмахиваться от они кукла а когда открывать оказываться что у кукла перегрызать глотка девочка подходить к кто то и говорить ты сегодня умирать и идти далеко и этот человек вскоре умирать')"
            ]
          },
          "metadata": {
            "tags": []
          },
          "execution_count": 42
        }
      ]
    },
    {
      "cell_type": "code",
      "metadata": {
        "id": "3tNJyR9Py6b9"
      },
      "source": [
        "save_840 = '\\n'.join(unique_train_y) + '\\n&&&\\n'\r\n",
        "save_840 += '\\n'.join(unique_train_x) + '\\n&&&\\n'\r\n",
        "save_840 += '\\n'.join(y_test) + '\\n&&&\\n'\r\n",
        "save_840 += '\\n'.join(x_test)\r\n",
        "with open('data_840.txt', 'w', encoding='utf-8') as file:\r\n",
        "    file.write(save_840)\r\n",
        "\r\n",
        "y_test[0], x_test[0]"
      ],
      "execution_count": null,
      "outputs": []
    },
    {
      "cell_type": "code",
      "metadata": {
        "id": "4zB1d8IXz-ky"
      },
      "source": [
        "noise_train_idx = [idx for idx, title in enumerate(y_train) if title not in unique_test_movies]\r\n",
        "noise_train_y = [title for title in y_train if title not in unique_test_movies]\r\n",
        "noise_train_x = [x_train[idx] for idx in noise_train_idx]"
      ],
      "execution_count": 44,
      "outputs": []
    },
    {
      "cell_type": "code",
      "metadata": {
        "id": "fsBxP4sEzfzT"
      },
      "source": [
        "from random import sample\r\n",
        "\r\n",
        "r = sample(noise_train_idx, 1000 - 840)\r\n",
        "train_y_1000 = unique_train_y + [y_train[idx] for idx in r]\r\n",
        "train_x_1000 = unique_train_x + [x_train[idx] for idx in r]\r\n",
        "\r\n",
        "save_1000 = '\\n'.join(train_y_1000) + '\\n&&&\\n'\r\n",
        "save_1000 += '\\n'.join(train_x_1000) + '\\n&&&\\n'\r\n",
        "save_1000 += '\\n'.join(y_test) + '\\n&&&\\n'\r\n",
        "save_1000 += '\\n'.join(x_test)\r\n",
        "with open('data_1000.txt', 'w', encoding='utf-8') as file:\r\n",
        "    file.write(save_1000)"
      ],
      "execution_count": null,
      "outputs": []
    },
    {
      "cell_type": "code",
      "metadata": {
        "id": "mR0_Hy7C5vUU"
      },
      "source": [
        "r = sample(noise_train_idx, 5000 - 840)\r\n",
        "train_y_5000 = unique_train_y + [y_train[idx] for idx in r]\r\n",
        "train_x_5000 = unique_train_x + [x_train[idx] for idx in r]\r\n",
        "\r\n",
        "save_5000 = '\\n'.join(train_y_5000) + '\\n&&&\\n'\r\n",
        "save_5000 += '\\n'.join(train_x_5000) + '\\n&&&\\n'\r\n",
        "save_5000 += '\\n'.join(y_test) + '\\n&&&\\n'\r\n",
        "save_5000 += '\\n'.join(x_test)\r\n",
        "with open('data_5000.txt', 'w', encoding='utf-8') as file:\r\n",
        "    file.write(save_5000)"
      ],
      "execution_count": null,
      "outputs": []
    },
    {
      "cell_type": "code",
      "metadata": {
        "id": "1Mf8gDpL580P"
      },
      "source": [
        "r = sample(noise_train_idx, 10000 - 840)\r\n",
        "train_y_10000 = unique_train_y + [y_train[idx] for idx in r]\r\n",
        "train_x_10000 = unique_train_x + [x_train[idx] for idx in r]\r\n",
        "\r\n",
        "save_10000 = '\\n'.join(train_y_10000) + '\\n&&&\\n'\r\n",
        "save_10000 += '\\n'.join(train_x_10000) + '\\n&&&\\n'\r\n",
        "save_10000 += '\\n'.join(y_test) + '\\n&&&\\n'\r\n",
        "save_10000 += '\\n'.join(x_test)\r\n",
        "with open('data_10000.txt', 'w', encoding='utf-8') as file:\r\n",
        "    file.write(save_10000)"
      ],
      "execution_count": null,
      "outputs": []
    },
    {
      "cell_type": "code",
      "metadata": {
        "id": "QbNQe1466GE8"
      },
      "source": [
        "r = sample(noise_train_idx, 20000 - 840)\r\n",
        "train_y_20000 = unique_train_y + [y_train[idx] for idx in r]\r\n",
        "train_x_20000 = unique_train_x + [x_train[idx] for idx in r]\r\n",
        "\r\n",
        "save_20000 = '\\n'.join(train_y_20000) + '\\n&&&\\n'\r\n",
        "save_20000 += '\\n'.join(train_x_20000) + '\\n&&&\\n'\r\n",
        "save_20000 += '\\n'.join(y_test) + '\\n&&&\\n'\r\n",
        "save_20000 += '\\n'.join(x_test)\r\n",
        "with open('data_20000.txt', 'w', encoding='utf-8') as file:\r\n",
        "    file.write(save_20000)"
      ],
      "execution_count": null,
      "outputs": []
    },
    {
      "cell_type": "code",
      "metadata": {
        "id": "Quz2RzGY6PK-"
      },
      "source": [
        "r = sample(noise_train_idx, 30000 - 840)\r\n",
        "train_y_30000 = unique_train_y + [y_train[idx] for idx in r]\r\n",
        "train_x_30000 = unique_train_x + [x_train[idx] for idx in r]\r\n",
        "\r\n",
        "save_30000 = '\\n'.join(train_y_30000) + '\\n&&&\\n'\r\n",
        "save_30000 += '\\n'.join(train_x_30000) + '\\n&&&\\n'\r\n",
        "save_30000 += '\\n'.join(y_test) + '\\n&&&\\n'\r\n",
        "save_30000 += '\\n'.join(x_test)\r\n",
        "with open('data_30000.txt', 'w', encoding='utf-8') as file:\r\n",
        "    file.write(save_30000)"
      ],
      "execution_count": null,
      "outputs": []
    }
  ]
}