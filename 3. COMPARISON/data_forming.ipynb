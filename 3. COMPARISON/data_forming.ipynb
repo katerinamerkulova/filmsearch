{
 "nbformat": 4,
 "nbformat_minor": 0,
 "metadata": {
  "colab": {
   "name": "data_forming.ipynb",
   "provenance": [],
   "collapsed_sections": [],
   "mount_file_id": "1JYf0DU1d-ApdAwEgxbr0S4sHuzuU5H3W",
   "authorship_tag": "ABX9TyNN5X8gV+2691A0RJvPVPwV"
  },
  "kernelspec": {
   "name": "python3",
   "language": "python",
   "display_name": "Python 3"
  }
 },
 "cells": [
  {
   "cell_type": "code",
   "metadata": {
    "id": "OIrlP4YqVOl_",
    "executionInfo": {
     "status": "ok",
     "timestamp": 1612433493780,
     "user_tz": -180,
     "elapsed": 1123,
     "user": {
      "displayName": "Меркулова Екатерина",
      "photoUrl": "",
      "userId": "15189389273996270102"
     }
    }
   },
   "source": [
    "x_train = open('film_plots.txt', encoding='utf-8').read().split('\\n')\n",
    "\n",
    "y_train = open('wiki_titles.txt', encoding='utf-8').read().split('\\n')\n",
    "\n",
    "x_test = open('test_data.txt', encoding='utf-8').read().split('\\n')\n",
    "\n",
    "y_test = open('test_titles.txt', encoding='utf-8').read().split('\\n')\n",
    "\n",
    "# x_summary_test = open('/content/drive/MyDrive/Colab Notebooks/summary_lemma.txt',\n",
    "#                       encoding='utf-8').read().split('\\n')\n",
    "#\n",
    "# y_summary_test = open('/content/drive/MyDrive/Colab Notebooks/summary_titles.txt',\n",
    "#                       encoding='utf-8').read().split('\\n')"
   ],
   "execution_count": 1,
   "outputs": []
  },
  {
   "cell_type": "code",
   "metadata": {
    "colab": {
     "base_uri": "https://localhost:8080/"
    },
    "id": "fb14VsYHVda4",
    "executionInfo": {
     "status": "ok",
     "timestamp": 1612433493783,
     "user_tz": -180,
     "elapsed": 1084,
     "user": {
      "displayName": "Меркулова Екатерина",
      "photoUrl": "",
      "userId": "15189389273996270102"
     }
    },
    "outputId": "a0470afd-3b76-4b48-ad00-b1eb380fae27"
   },
   "source": [
    "import re\n",
    "\n",
    "# find movies that are in test\n",
    "y_test_u = open('test_titles.txt', encoding='utf-8').read()\n",
    "unique_test_movies = set(re.split('[\\n;]', y_test_u))\n",
    "print(f'{len(unique_test_movies)} unique movies in test data')\n",
    "\n",
    "# find their description in train\n",
    "unique_train_idx = [idx for idx, title in enumerate(y_train) if title in unique_test_movies]\n",
    "unique_train_y = [title for title in y_train if title in unique_test_movies]\n",
    "unique_train_x = [x_train[idx] for idx in unique_train_idx]"
   ],
   "execution_count": 2,
   "outputs": [
    {
     "name": "stdout",
     "output_type": "stream",
     "text": [
      "1039 unique movies in test data\n"
     ]
    }
   ]
  },
  {
   "cell_type": "code",
   "metadata": {
    "colab": {
     "base_uri": "https://localhost:8080/"
    },
    "id": "Ecec95UBt8U5",
    "executionInfo": {
     "status": "ok",
     "timestamp": 1612433493787,
     "user_tz": -180,
     "elapsed": 1071,
     "user": {
      "displayName": "Меркулова Екатерина",
      "photoUrl": "",
      "userId": "15189389273996270102"
     }
    },
    "outputId": "0c86ef34-fac2-491c-b072-73f0bc935903"
   },
   "source": [
    "unique_test_x_100 = x_test[:100]\n",
    "unique_test_y_100 = y_test[:100]\n",
    "\n",
    "y_test_u_100 = [title for title in unique_test_movies if title in '\\n'.join(unique_test_y_100)]\n",
    "\n",
    "unique_train_idx_100 = [idx for (idx, y) in enumerate(y_train) if y in y_test_u_100]\n",
    "unique_train_y_100 = [y_train[idx] for idx in unique_train_idx_100]\n",
    "unique_train_x_100 = [x_train[idx] for idx in unique_train_idx_100]\n",
    "\n",
    "save_100 = '\\n'.join(unique_train_y_100) + '\\n&&&\\n'\n",
    "save_100 += '\\n'.join(unique_train_x_100) + '\\n&&&\\n'\n",
    "save_100 += '\\n'.join(unique_test_y_100) + '\\n&&&\\n'\n",
    "save_100 += '\\n'.join(unique_test_x_100)\n",
    "with open('data_100.txt', 'w', encoding='utf-8') as file:\n",
    "    file.write(save_100)\n",
    "\n",
    "unique_test_y_100[0], unique_test_x_100[0]"
   ],
   "execution_count": 3,
   "outputs": [
    {
     "data": {
      "text/plain": "('Райское озеро',\n 'фильм снимать на реальный событие пара жить в загородный дом вроде в округ лес и ребенок подросток сначала запугивать их мужчина вроде что то с нога сделать ')"
     },
     "execution_count": 3,
     "metadata": {},
     "output_type": "execute_result"
    }
   ]
  },
  {
   "cell_type": "code",
   "metadata": {
    "colab": {
     "base_uri": "https://localhost:8080/"
    },
    "id": "pTSXSO26ymoW",
    "executionInfo": {
     "status": "ok",
     "timestamp": 1612433493788,
     "user_tz": -180,
     "elapsed": 1060,
     "user": {
      "displayName": "Меркулова Екатерина",
      "photoUrl": "",
      "userId": "15189389273996270102"
     }
    },
    "outputId": "6632207f-7553-43b2-b924-eb843ece6b84"
   },
   "source": [
    "unique_test_x_500 = x_test[:500]\n",
    "unique_test_y_500 = y_test[:500]\n",
    "\n",
    "y_test_u_500 = [title for title in unique_test_movies if title in '\\n'.join(unique_test_y_500)]\n",
    "\n",
    "unique_train_idx_500 = [idx for (idx, y) in enumerate(y_train) if y in y_test_u_500]\n",
    "unique_train_y_500 = [y_train[idx] for idx in unique_train_idx_500]\n",
    "unique_train_x_500 = [x_train[idx] for idx in unique_train_idx_500]\n",
    "\n",
    "save_500 = '\\n'.join(unique_train_y_500) + '\\n&&&\\n'\n",
    "save_500 += '\\n'.join(unique_train_x_500) + '\\n&&&\\n'\n",
    "save_500 += '\\n'.join(unique_test_y_500) + '\\n&&&\\n'\n",
    "save_500 += '\\n'.join(unique_test_x_500)\n",
    "with open('data_500.txt', 'w', encoding='utf-8') as file:\n",
    "    file.write(save_500)\n",
    "\n",
    "unique_test_y_500[0], unique_test_x_500[0]"
   ],
   "execution_count": 4,
   "outputs": [
    {
     "data": {
      "text/plain": "('Райское озеро',\n 'фильм снимать на реальный событие пара жить в загородный дом вроде в округ лес и ребенок подросток сначала запугивать их мужчина вроде что то с нога сделать ')"
     },
     "execution_count": 4,
     "metadata": {},
     "output_type": "execute_result"
    }
   ]
  },
  {
   "cell_type": "code",
   "execution_count": 5,
   "outputs": [
    {
     "data": {
      "text/plain": "('Райское озеро',\n 'фильм снимать на реальный событие пара жить в загородный дом вроде в округ лес и ребенок подросток сначала запугивать их мужчина вроде что то с нога сделать ')"
     },
     "execution_count": 5,
     "metadata": {},
     "output_type": "execute_result"
    }
   ],
   "source": [
    "unique_test_x_1000 = x_test[:1000]\n",
    "unique_test_y_1000 = y_test[:1000]\n",
    "\n",
    "y_test_u_1000 = [title for title in unique_test_movies if title in '\\n'.join(unique_test_y_1000)]\n",
    "\n",
    "unique_train_idx_1000 = [idx for (idx, y) in enumerate(y_train) if y in y_test_u_1000]\n",
    "unique_train_y_1000 = [y_train[idx] for idx in unique_train_idx_1000]\n",
    "unique_train_x_1000 = [x_train[idx] for idx in unique_train_idx_1000]\n",
    "\n",
    "save_1000 = '\\n'.join(unique_train_y_1000) + '\\n&&&\\n'\n",
    "save_1000 += '\\n'.join(unique_train_x_1000) + '\\n&&&\\n'\n",
    "save_1000 += '\\n'.join(unique_test_y_1000) + '\\n&&&\\n'\n",
    "save_1000 += '\\n'.join(unique_test_x_1000)\n",
    "with open('data_1000.txt', 'w', encoding='utf-8') as file:\n",
    "    file.write(save_1000)\n",
    "\n",
    "unique_test_y_1000[0], unique_test_x_1000[0]"
   ],
   "metadata": {
    "collapsed": false,
    "pycharm": {
     "name": "#%%\n"
    }
   }
  },
  {
   "cell_type": "code",
   "execution_count": 6,
   "outputs": [],
   "source": [
    "noise_train_idx = [idx for idx, title in enumerate(y_train) if title not in unique_test_movies]\n",
    "noise_train_y = [y_train[idx] for idx in noise_train_idx]\n",
    "noise_train_x = [x_train[idx] for idx in noise_train_idx]"
   ],
   "metadata": {
    "collapsed": false,
    "pycharm": {
     "name": "#%%\n"
    }
   }
  },
  {
   "cell_type": "code",
   "metadata": {
    "id": "mR0_Hy7C5vUU",
    "executionInfo": {
     "status": "ok",
     "timestamp": 1612433494364,
     "user_tz": -180,
     "elapsed": 1607,
     "user": {
      "displayName": "Меркулова Екатерина",
      "photoUrl": "",
      "userId": "15189389273996270102"
     }
    }
   },
   "source": [
    "from random import sample\n",
    "\n",
    "r = sample(noise_train_idx, 5000 - 1039)\n",
    "train_y_5000 = unique_train_y + [y_train[idx] for idx in r]\n",
    "train_x_5000 = unique_train_x + [x_train[idx] for idx in r]\n",
    "\n",
    "save_5000 = '\\n'.join(train_y_5000) + '\\n&&&\\n'\n",
    "save_5000 += '\\n'.join(train_x_5000) + '\\n&&&\\n'\n",
    "save_5000 += '\\n'.join(y_test) + '\\n&&&\\n'\n",
    "save_5000 += '\\n'.join(x_test)\n",
    "with open('data_5000.txt', 'w', encoding='utf-8') as file:\n",
    "    file.write(save_5000)"
   ],
   "execution_count": 7,
   "outputs": []
  },
  {
   "cell_type": "code",
   "metadata": {
    "id": "1Mf8gDpL580P",
    "executionInfo": {
     "status": "ok",
     "timestamp": 1612433494674,
     "user_tz": -180,
     "elapsed": 1909,
     "user": {
      "displayName": "Меркулова Екатерина",
      "photoUrl": "",
      "userId": "15189389273996270102"
     }
    }
   },
   "source": [
    "r = sample(noise_train_idx, 10000 - 1039)\n",
    "train_y_10000 = unique_train_y + [y_train[idx] for idx in r]\n",
    "train_x_10000 = unique_train_x + [x_train[idx] for idx in r]\n",
    "\n",
    "save_10000 = '\\n'.join(train_y_10000) + '\\n&&&\\n'\n",
    "save_10000 += '\\n'.join(train_x_10000) + '\\n&&&\\n'\n",
    "save_10000 += '\\n'.join(y_test) + '\\n&&&\\n'\n",
    "save_10000 += '\\n'.join(x_test)\n",
    "with open('data_10000.txt', 'w', encoding='utf-8') as file:\n",
    "    file.write(save_10000)"
   ],
   "execution_count": 8,
   "outputs": []
  },
  {
   "cell_type": "code",
   "metadata": {
    "id": "QbNQe1466GE8",
    "executionInfo": {
     "status": "ok",
     "timestamp": 1612433495339,
     "user_tz": -180,
     "elapsed": 2569,
     "user": {
      "displayName": "Меркулова Екатерина",
      "photoUrl": "",
      "userId": "15189389273996270102"
     }
    }
   },
   "source": [
    "r = sample(noise_train_idx, 20000 - 1039)\n",
    "train_y_20000 = unique_train_y + [y_train[idx] for idx in r]\n",
    "train_x_20000 = unique_train_x + [x_train[idx] for idx in r]\n",
    "\n",
    "save_20000 = '\\n'.join(train_y_20000) + '\\n&&&\\n'\n",
    "save_20000 += '\\n'.join(train_x_20000) + '\\n&&&\\n'\n",
    "save_20000 += '\\n'.join(y_test) + '\\n&&&\\n'\n",
    "save_20000 += '\\n'.join(x_test)\n",
    "with open('data_20000.txt', 'w', encoding='utf-8') as file:\n",
    "    file.write(save_20000)"
   ],
   "execution_count": 9,
   "outputs": []
  },
  {
   "cell_type": "code",
   "metadata": {
    "id": "Quz2RzGY6PK-",
    "executionInfo": {
     "status": "ok",
     "timestamp": 1612433496205,
     "user_tz": -180,
     "elapsed": 3430,
     "user": {
      "displayName": "Меркулова Екатерина",
      "photoUrl": "",
      "userId": "15189389273996270102"
     }
    }
   },
   "source": [
    "r = sample(noise_train_idx, 30000 - 1039)\n",
    "train_y_30000 = unique_train_y + [y_train[idx] for idx in r]\n",
    "train_x_30000 = unique_train_x + [x_train[idx] for idx in r]\n",
    "\n",
    "save_30000 = '\\n'.join(train_y_30000) + '\\n&&&\\n'\n",
    "save_30000 += '\\n'.join(train_x_30000) + '\\n&&&\\n'\n",
    "save_30000 += '\\n'.join(y_test) + '\\n&&&\\n'\n",
    "save_30000 += '\\n'.join(x_test)\n",
    "with open('data_30000.txt', 'w', encoding='utf-8') as file:\n",
    "    file.write(save_30000)"
   ],
   "execution_count": 10,
   "outputs": []
  }
 ]
}