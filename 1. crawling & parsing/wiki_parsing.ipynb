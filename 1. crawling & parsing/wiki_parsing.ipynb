{
 "cells": [
  {
   "cell_type": "code",
   "execution_count": null,
   "metadata": {},
   "outputs": [],
   "source": [
    "import wikipediaapi as wapi\n",
    "\n",
    "titles = open('wiki_titles.txt', encoding='utf-8').read().split('\\n')\n",
    "wiki = wapi.Wikipedia('ru')\n",
    "\n",
    "for title in titles:\n",
    "    page = wiki.page(title)\n",
    "    try:\n",
    "        if page.sections[0].title == 'Сюжет':\n",
    "            plot = page.sections[0].text    # plot\n",
    "            summary = page.summary\n",
    "            with open('film_plots.txt', 'a', encoding='utf-8') as f:\n",
    "                f.write(title + ';' + plot + '\\n&&&\\n' )\n",
    "            with open('summary.txt', 'a', encoding='utf-8') as f:\n",
    "                f.write(title + ';' + summary + '\\n&&&\\n' )\n",
    "    except IndexError:\n",
    "        None"
   ]
  }
 ],
 "metadata": {
  "kernelspec": {
   "display_name": "Python 3",
   "language": "python",
   "name": "python3"
  },
  "language_info": {
   "codemirror_mode": {
    "name": "ipython",
    "version": 3
   },
   "file_extension": ".py",
   "mimetype": "text/x-python",
   "name": "python",
   "nbconvert_exporter": "python",
   "pygments_lexer": "ipython3",
   "version": "3.7.8"
  }
 },
 "nbformat": 4,
 "nbformat_minor": 2
}
