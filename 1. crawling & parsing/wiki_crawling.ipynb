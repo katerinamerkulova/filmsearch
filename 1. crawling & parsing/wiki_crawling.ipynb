{
 "cells": [
  {
   "cell_type": "code",
   "execution_count": null,
   "metadata": {},
   "outputs": [],
   "source": [
    "#the number of films in wikipedia is 29820 https://ru.wikipedia.org/wiki/%D0%9A%D0%B0%D1%82%D0%B5%D0%B3%D0%BE%D1%80%D0%B8%D1%8F:%D0%A4%D0%B8%D0%BB%D1%8C%D0%BC%D1%8B_%D0%BF%D0%BE_%D0%B0%D0%BB%D1%84%D0%B0%D0%B2%D0%B8%D1%82%D1%83\n",
    "import requests\n",
    "import bs4\n",
    "import re\n",
    "\n",
    "\n",
    "def parse_linkspage(url):\n",
    "    page = requests.get(url)\n",
    "    parser = bs4.BeautifulSoup(page.text, 'lxml')\n",
    "    links = parser.find_all('li')[5:205]\n",
    "    try:\n",
    "        for link in links:\n",
    "            film_links.append(link.a.get('href'))\n",
    "            film_titles.append(link.a.get('title'))\n",
    "        common = 'https://ru.wikipedia.org/w/index.php?title=%D0%9A%D0%B0%D1%82%D0%B5%D0%B3%D0%BE%D1%80%D0%B8%D1%8F:%D0%A4%D0%B8%D0%BB%D1%8C%D0%BC%D1%8B_%D0%BF%D0%BE_%D0%B0%D0%BB%D1%84%D0%B0%D0%B2%D0%B8%D1%82%D1%83&'\n",
    "        url = common + re.search('pagefrom.+pages', str(parser)).group(0)    # next page\n",
    "    except AttributeError:\n",
    "        if len(film_links) < 29820:\n",
    "            parse_linkspage(url)\n",
    "    print(len(film_links)/29820)\n",
    "    if len(film_links) < 29820:\n",
    "        parse_linkspage(url)\n",
    "    return film_links, titles\n",
    "\n",
    "film_links = []\n",
    "film_titles = []\n",
    "film_links, film_titles = parse_linkspage(\n",
    "    url='https://ru.wikipedia.org/wiki/%D0%9A%D0%B0%D1%82%D0%B5%D0%B3%D0%BE%D1%80%D0%B8%D1%8F:%D0%A4%D0%B8%D0%BB%D1%8C%D0%BC%D1%8B_%D0%BF%D0%BE_%D0%B0%D0%BB%D1%84%D0%B0%D0%B2%D0%B8%D1%82%D1%83')\n",
    "\n",
    "with open('wiki_links.txt', 'w', encoding='utf-8') as f:\n",
    "    f.write('\\n'.join(film_links))\n",
    "with open('wiki_titles.txt', 'w', encoding='utf-8') as f:\n",
    "    f.write('\\n'.join(film_titles))"
   ]
  }
 ],
 "metadata": {
  "kernelspec": {
   "display_name": "Python 3",
   "language": "python",
   "name": "python3"
  },
  "language_info": {
   "codemirror_mode": {
    "name": "ipython",
    "version": 3
   },
   "file_extension": ".py",
   "mimetype": "text/x-python",
   "name": "python",
   "nbconvert_exporter": "python",
   "pygments_lexer": "ipython3",
   "version": "3.6.8"
  }
 },
 "nbformat": 4,
 "nbformat_minor": 2
}
