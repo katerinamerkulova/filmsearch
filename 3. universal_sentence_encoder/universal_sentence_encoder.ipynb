{
  "nbformat": 4,
  "nbformat_minor": 0,
  "metadata": {
    "colab": {
      "name": "universal sentence encoder.ipynb",
      "provenance": [],
      "collapsed_sections": []
    },
    "kernelspec": {
      "name": "python3",
      "display_name": "Python 3"
    },
    "accelerator": "GPU"
  },
  "cells": [
    {
      "cell_type": "code",
      "metadata": {
        "id": "tRxyaEyOdOqA"
      },
      "source": [
        "!pip3 install tensorflow_text>=2.0.0"
      ],
      "execution_count": null,
      "outputs": []
    },
    {
      "cell_type": "code",
      "metadata": {
        "id": "SNWzfeZrUu8x",
        "colab": {
          "base_uri": "https://localhost:8080/"
        },
        "outputId": "42e40927-4532-483b-f8db-fcb5250ba9de"
      },
      "source": [
        "#!pip3 install tensorflow_text>=2.0.0\r\n",
        "import tensorflow_hub as hub\r\n",
        "import numpy as np\r\n",
        "import tensorflow_text\r\n",
        "\r\n",
        "x_train = open('/content/drive/MyDrive/Colab Notebooks/film_plots_lemma.txt',\r\n",
        "               encoding='utf-8').read().split('\\n')\r\n",
        "\r\n",
        "y_train = open('/content/drive/MyDrive/Colab Notebooks/wiki_titles.txt',\r\n",
        "               encoding='utf-8').read().split('\\n')\r\n",
        "\r\n",
        "x_test = open('/content/drive/MyDrive/Colab Notebooks/test_data_lemma.txt',\r\n",
        "              encoding='utf-8').read().split('\\n')\r\n",
        "\r\n",
        "y_test = open('/content/drive/MyDrive/Colab Notebooks/test_titles.txt',\r\n",
        "              encoding='utf-8').read().split('\\n')\r\n",
        "\r\n",
        "x_summary_test = open('/content/drive/MyDrive/Colab Notebooks/summary_lemma.txt',\r\n",
        "                      encoding='utf-8').read().split('\\n')\r\n",
        "\r\n",
        "y_summary_test = open('/content/drive/MyDrive/Colab Notebooks/summary_titles.txt',\r\n",
        "                      encoding='utf-8').read().split('\\n')\r\n",
        "\r\n",
        "print(len(x_train) == len(y_train))\r\n",
        "print(len(x_test) == len(y_test))\r\n",
        "print(len(x_summary_test) == len(y_summary_test))\r\n",
        "\r\n",
        "model = hub.load('https://tfhub.dev/google/universal-sentence-encoder-multilingual-large/3')"
      ],
      "execution_count": null,
      "outputs": [
        {
          "output_type": "stream",
          "text": [
            "True\n",
            "True\n",
            "True\n"
          ],
          "name": "stdout"
        }
      ]
    },
    {
      "cell_type": "code",
      "metadata": {
        "id": "VEixv8UmW82S"
      },
      "source": [
        "import pandas as pd\r\n",
        "\r\n",
        "\r\n",
        "def ap(relev, k):    # average presicion\r\n",
        "    ap = []\r\n",
        "    for i in range(1, k):\r\n",
        "        if relev[i-1] is 1:    # if doc is relevant\r\n",
        "            ap.append(sum(relev[:i])/i)    # summary of precisions\r\n",
        "    try: \r\n",
        "        ap = sum(ap)/sum(relev)\r\n",
        "    except ZeroDivisionError:\r\n",
        "        ap = 0.0\r\n",
        "    return ap\r\n",
        "\r\n",
        "\r\n",
        "def evaluation(query, relev, index=0, k=5):    # mean average precision (5)\r\n",
        "    prec = round(sum(relev)/k, 4)    # rank is not take into account\r\n",
        "    k += 1\r\n",
        "    avp = ap(relev, k)    # rank is take into account\r\n",
        "    evaluat = pd.DataFrame({'precision': prec,\r\n",
        "                            'average_precision': avp},\r\n",
        "                            index=[index])\r\n",
        "    return evaluat\r\n",
        "\r\n",
        "\r\n",
        "def calc_map(query, film, predictions, k, index):\r\n",
        "    relev = [0] * k\r\n",
        "    for i, pred in enumerate(predictions):\r\n",
        "        if y_train[pred] == film:\r\n",
        "            relev[i] = 1\r\n",
        "    if relev != [0] * k:   \r\n",
        "        df = evaluation(query, relev, index, k)\r\n",
        "    else:\r\n",
        "        df = pd.DataFrame({'precision': 0.0,\r\n",
        "                           'average_precision': 0.0},\r\n",
        "                           index=[index])\r\n",
        "    return df\r\n",
        "\r\n",
        "\r\n",
        "# map = sum(ap)/Q    # Q - number of quaries\r\n",
        "# recall = sum(p)/Q"
      ],
      "execution_count": null,
      "outputs": []
    },
    {
      "cell_type": "code",
      "metadata": {
        "colab": {
          "base_uri": "https://localhost:8080/"
        },
        "id": "Q-dEBR2ddG2k",
        "outputId": "19fac18d-3510-4fbb-8871-8387ff996639"
      },
      "source": [
        "!pip install annoy"
      ],
      "execution_count": null,
      "outputs": [
        {
          "output_type": "stream",
          "text": [
            "Requirement already satisfied: annoy in /usr/local/lib/python3.6/dist-packages (1.17.0)\n"
          ],
          "name": "stdout"
        }
      ]
    },
    {
      "cell_type": "code",
      "metadata": {
        "id": "bIH0nuLqRHXp",
        "colab": {
          "base_uri": "https://localhost:8080/"
        },
        "outputId": "ee0b3cb3-255e-424c-fcb5-54599f3ec9c8"
      },
      "source": [
        "from annoy import AnnoyIndex # https://github.com/spotify/annoy\r\n",
        "import numpy as np\r\n",
        "import time\r\n",
        "\r\n",
        "start = time.time()\r\n",
        "\r\n",
        "f = 512\r\n",
        "t = AnnoyIndex(f, 'angular')  # Length of item vector that will be indexed\r\n",
        "for idx, text in enumerate(x_train):\r\n",
        "    v = model(text)[0]\r\n",
        "    try:\r\n",
        "        t.add_item(idx, v)\r\n",
        "    except ValueError:\r\n",
        "        continue\r\n",
        "\r\n",
        "t.build(100) # 100 trees\r\n",
        "t.save('test.ann')\r\n",
        "\r\n",
        "end = time.time()\r\n",
        "print(end - start)"
      ],
      "execution_count": 19,
      "outputs": [
        {
          "output_type": "stream",
          "text": [
            "5598.728063821793\n"
          ],
          "name": "stdout"
        }
      ]
    },
    {
      "cell_type": "code",
      "metadata": {
        "id": "weaED0vJRuYF"
      },
      "source": [
        "u = AnnoyIndex(f, 'angular')\r\n",
        "u.load('test.ann') # super fast, just map the file\r\n",
        "\r\n",
        "df = pd.DataFrame(columns=['precision', 'average_precision'])\r\n",
        "\r\n",
        "for idx, (query, film) in enumerate(zip(x_test, y_test)):\r\n",
        "    v = model(query)[0]\r\n",
        "    top_20 = u.get_nns_by_vector(v, 20) # find the 20 nearest neighbors\r\n",
        "\r\n",
        "    df2 = calc_map(query, film, top_20, 20, idx)\r\n",
        "    df = df.append(df2)"
      ],
      "execution_count": 20,
      "outputs": []
    },
    {
      "cell_type": "code",
      "metadata": {
        "colab": {
          "base_uri": "https://localhost:8080/",
          "height": 80
        },
        "id": "xqETG91ZRwCi",
        "outputId": "eff72703-83ec-48fa-f67d-b13c94b1ac1d"
      },
      "source": [
        "MAP = pd.DataFrame(columns=['recall', 'MAP'])\r\n",
        "df2 = pd.DataFrame({'recall': len([1 for prec in df.precision if prec != 0])/len(x_test),\r\n",
        "                    'MAP': sum(df.average_precision)/len(x_test)},\r\n",
        "                    index=['vk'])\r\n",
        "MAP = MAP.append(df2)\r\n",
        "MAP"
      ],
      "execution_count": 21,
      "outputs": [
        {
          "output_type": "execute_result",
          "data": {
            "text/html": [
              "<div>\n",
              "<style scoped>\n",
              "    .dataframe tbody tr th:only-of-type {\n",
              "        vertical-align: middle;\n",
              "    }\n",
              "\n",
              "    .dataframe tbody tr th {\n",
              "        vertical-align: top;\n",
              "    }\n",
              "\n",
              "    .dataframe thead th {\n",
              "        text-align: right;\n",
              "    }\n",
              "</style>\n",
              "<table border=\"1\" class=\"dataframe\">\n",
              "  <thead>\n",
              "    <tr style=\"text-align: right;\">\n",
              "      <th></th>\n",
              "      <th>recall</th>\n",
              "      <th>MAP</th>\n",
              "    </tr>\n",
              "  </thead>\n",
              "  <tbody>\n",
              "    <tr>\n",
              "      <th>vk</th>\n",
              "      <td>0.009</td>\n",
              "      <td>0.003011</td>\n",
              "    </tr>\n",
              "  </tbody>\n",
              "</table>\n",
              "</div>"
            ],
            "text/plain": [
              "    recall       MAP\n",
              "vk   0.009  0.003011"
            ]
          },
          "metadata": {
            "tags": []
          },
          "execution_count": 21
        }
      ]
    },
    {
      "cell_type": "code",
      "metadata": {
        "id": "5ESatubXRzHT"
      },
      "source": [
        "df = pd.DataFrame(columns=['precision', 'average_precision'])\r\n",
        "\r\n",
        "for idx, (query, film) in enumerate(zip(x_summary_test, y_summary_test)):\r\n",
        "    v = model(query)[0]\r\n",
        "    top_20 = u.get_nns_by_vector(v, 20) # find the 20 nearest neighbors\r\n",
        "\r\n",
        "    df2 = calc_map(query, film, top_20, 20, idx)\r\n",
        "    df = df.append(df2)"
      ],
      "execution_count": 22,
      "outputs": []
    },
    {
      "cell_type": "code",
      "metadata": {
        "colab": {
          "base_uri": "https://localhost:8080/",
          "height": 111
        },
        "id": "VBRtU4fIR1Ry",
        "outputId": "f8b8dc6c-2831-4130-94fa-3bc3d41f4935"
      },
      "source": [
        "df2 = pd.DataFrame({'recall': len([1 for prec in df.precision if prec != 0])/len(x_summary_test),\r\n",
        "                    'MAP': sum(df.average_precision)/len(x_summary_test)},\r\n",
        "                    index=['wiki summaries'])\r\n",
        "MAP = MAP.append(df2)\r\n",
        "MAP"
      ],
      "execution_count": 23,
      "outputs": [
        {
          "output_type": "execute_result",
          "data": {
            "text/html": [
              "<div>\n",
              "<style scoped>\n",
              "    .dataframe tbody tr th:only-of-type {\n",
              "        vertical-align: middle;\n",
              "    }\n",
              "\n",
              "    .dataframe tbody tr th {\n",
              "        vertical-align: top;\n",
              "    }\n",
              "\n",
              "    .dataframe thead th {\n",
              "        text-align: right;\n",
              "    }\n",
              "</style>\n",
              "<table border=\"1\" class=\"dataframe\">\n",
              "  <thead>\n",
              "    <tr style=\"text-align: right;\">\n",
              "      <th></th>\n",
              "      <th>recall</th>\n",
              "      <th>MAP</th>\n",
              "    </tr>\n",
              "  </thead>\n",
              "  <tbody>\n",
              "    <tr>\n",
              "      <th>vk</th>\n",
              "      <td>0.009</td>\n",
              "      <td>0.003011</td>\n",
              "    </tr>\n",
              "    <tr>\n",
              "      <th>wiki summaries</th>\n",
              "      <td>0.045</td>\n",
              "      <td>0.021145</td>\n",
              "    </tr>\n",
              "  </tbody>\n",
              "</table>\n",
              "</div>"
            ],
            "text/plain": [
              "                recall       MAP\n",
              "vk               0.009  0.003011\n",
              "wiki summaries   0.045  0.021145"
            ]
          },
          "metadata": {
            "tags": []
          },
          "execution_count": 23
        }
      ]
    },
    {
      "cell_type": "code",
      "metadata": {
        "id": "RwsVKSqlWqmx",
        "colab": {
          "base_uri": "https://localhost:8080/"
        },
        "outputId": "38cee477-a654-4964-912d-6e7da4dd990d"
      },
      "source": [
        "x_0 = model(x_test[28])  # Дом у озера\r\n",
        "x_1 = model(x_test[462])  # Дом у озера\r\n",
        "x_2 = model(x_test[2])  # neg\r\n",
        "\r\n",
        "y = model(x_train[9469])  # Дом у озера\r\n",
        "\r\n",
        "x_0_sim = np.inner(x_0, y)[0][0]\r\n",
        "x_1_sim = np.inner(x_1, y)[0][0]\r\n",
        "x_2_sim = np.inner(x_2, y)[0][0]\r\n",
        "\r\n",
        "print(f'Similarity for two matching items: {x_0_sim:.2f} and {x_1_sim:.2f}')\r\n",
        "print( f'Similarity for negative item: {x_2_sim:.2f}')"
      ],
      "execution_count": 25,
      "outputs": [
        {
          "output_type": "stream",
          "text": [
            "Similarity for two matching items: 0.35 and 0.19\n",
            "Similarity for negative item: 0.06\n"
          ],
          "name": "stdout"
        }
      ]
    }
  ]
}